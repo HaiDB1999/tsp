{
 "cells": [
  {
   "cell_type": "code",
   "execution_count": 6,
   "id": "cb772618",
   "metadata": {},
   "outputs": [],
   "source": [
    "import numpy as np\n",
    "import matplotlib.pyplot as plt"
   ]
  },
  {
   "cell_type": "code",
   "execution_count": 34,
   "id": "d4656236",
   "metadata": {},
   "outputs": [],
   "source": [
    "def init_data(n_city):\n",
    "    arr = np.random.rand(n_city, 2)\n",
    "    return arr\n",
    "\n",
    "def visualine_city(arr):\n",
    "    plt.plot(list(arr[:,0]), list(arr[:,1]), 'go')\n",
    "    plt.show()\n",
    "    return"
   ]
  },
  {
   "cell_type": "code",
   "execution_count": 89,
   "id": "d082d550",
   "metadata": {},
   "outputs": [],
   "source": [
    "class City: # gene\n",
    "#     __distances_table = {}\n",
    "    def __init__(self, location):\n",
    "        self.x_value = location[0]\n",
    "        self.y_value = location[1]\n",
    "        \n",
    "    def get_distance_to(self, dest):\n",
    "        x_origin, y_origin = self.x_value, self.y_value\n",
    "        x_dest, y_dest = dest.x_value, dest.y_value\n",
    "        return ((x_dest-x_origin)**2 + (y_dest-y_origin)**2)**0.5\n",
    "    \n",
    "    def get_city(self):\n",
    "        return (self.x_value, self.y_value)\n",
    "\n",
    "class Individual:\n",
    "    def __init__(self, citys):\n",
    "        self.citys = citys\n",
    "        self.__cost = 0\n",
    "    \n",
    "    @property\n",
    "    def cost(self):\n",
    "        if(self.__cost == 0):\n",
    "            for i in range(len(self.citys)):\n",
    "                self.__cost += self.citys[i].get_distance_to(self.citys[i-1])\n",
    "        return self.__cost\n",
    "    \n",
    "    def get_individual(self):\n",
    "        return [city.get_city() for city in self.citys]\n",
    "    \n",
    "class Population:\n",
    "    def __init__(self, individuals):\n",
    "        self.individuals = individuals\n",
    "    \n",
    "    def add(self, indiv):\n",
    "        self.individuals.append(indiv)\n",
    "    \n",
    "    def add_nums(self, nums):\n",
    "        citys = self.individuals[0].citys\n",
    "        for _ in range(nums):\n",
    "            np.random.shuffle(citys)\n",
    "            self.add(Individual(citys))\n",
    "        \n",
    "    def remove(self, indiv):\n",
    "        self.remove(indiv)\n",
    "    \n",
    "    def get_fittest(self):\n",
    "        best_indiv = self.individuals[0]\n",
    "        \n",
    "        for indiv in self.individuals:\n",
    "            if(best_indiv.cost > indiv.cost):\n",
    "                best_indiv = indiv\n",
    "        \n",
    "        return best_indiv\n",
    "\n"
   ]
  },
  {
   "cell_type": "code",
   "execution_count": 90,
   "id": "1c36c846",
   "metadata": {},
   "outputs": [],
   "source": [
    "citys = [City(x) for x in init_data(10)]"
   ]
  },
  {
   "cell_type": "code",
   "execution_count": 91,
   "id": "fd67b023",
   "metadata": {},
   "outputs": [],
   "source": [
    "pop = Population([Individual(citys)])"
   ]
  },
  {
   "cell_type": "code",
   "execution_count": 94,
   "id": "7dc6e4c6",
   "metadata": {},
   "outputs": [],
   "source": [
    "pop.add_nums(10)"
   ]
  },
  {
   "cell_type": "code",
   "execution_count": 95,
   "id": "2c3ca5e8",
   "metadata": {},
   "outputs": [
    {
     "data": {
      "text/plain": [
       "4.4659403970928455"
      ]
     },
     "execution_count": 95,
     "metadata": {},
     "output_type": "execute_result"
    }
   ],
   "source": [
    "pop.get_fittest().cost"
   ]
  },
  {
   "cell_type": "code",
   "execution_count": 96,
   "id": "48a24c11",
   "metadata": {},
   "outputs": [
    {
     "data": {
      "text/plain": [
       "[(0.7190159229215765, 0.033025391588552444),\n",
       " (0.5319081507125084, 0.8836072342302391),\n",
       " (0.5987527427325446, 0.9988002940240105),\n",
       " (0.7641664416506323, 0.0865097941589199),\n",
       " (0.6024622876414407, 0.6496303297991338),\n",
       " (0.485317832632291, 0.597918838474946),\n",
       " (0.534615132902259, 0.641850554572859),\n",
       " (0.059653313517657125, 0.8504329679999965),\n",
       " (0.228346562267423, 0.9496551750088408),\n",
       " (0.31945392219010005, 0.7498455325748347)]"
      ]
     },
     "execution_count": 96,
     "metadata": {},
     "output_type": "execute_result"
    }
   ],
   "source": [
    "pop.get_fittest().get_individual()"
   ]
  },
  {
   "cell_type": "code",
   "execution_count": null,
   "id": "ca6552c8",
   "metadata": {},
   "outputs": [],
   "source": []
  }
 ],
 "metadata": {
  "kernelspec": {
   "display_name": "Python 3",
   "language": "python",
   "name": "python3"
  },
  "language_info": {
   "codemirror_mode": {
    "name": "ipython",
    "version": 3
   },
   "file_extension": ".py",
   "mimetype": "text/x-python",
   "name": "python",
   "nbconvert_exporter": "python",
   "pygments_lexer": "ipython3",
   "version": "3.8.8"
  }
 },
 "nbformat": 4,
 "nbformat_minor": 5
}
